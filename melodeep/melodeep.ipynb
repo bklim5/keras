{
 "cells": [
  {
   "cell_type": "markdown",
   "metadata": {},
   "source": [
    "# MeloDeep\n",
    "\n",
    "In this project, we will be using Deep Learning with Keras to generate new music"
   ]
  },
  {
   "cell_type": "markdown",
   "metadata": {},
   "source": [
    "## Dependencies\n",
    "1. **numpy** for numbers / matrixes manipulation\n",
    "2. **music21** for midi file parsing"
   ]
  },
  {
   "cell_type": "code",
   "execution_count": 1,
   "metadata": {
    "collapsed": true
   },
   "outputs": [],
   "source": [
    "# dependencies\n",
    "import numpy as np\n",
    "from music21 import *"
   ]
  },
  {
   "cell_type": "markdown",
   "metadata": {},
   "source": [
    "## Initialization of constants\n",
    "The output size of our neural net is 129, as midi contains 128 notes C0(0) - G9(127), and we add additional 1 for rest note"
   ]
  },
  {
   "cell_type": "code",
   "execution_count": 2,
   "metadata": {
    "collapsed": true
   },
   "outputs": [],
   "source": [
    "OUTPUT_SIZE = 129"
   ]
  },
  {
   "cell_type": "markdown",
   "metadata": {},
   "source": [
    "## Parsing of features\n",
    "Firstly, we parse and extract the melody portion from our training file. As of now, we are not able to generate music with multiple tracks (eg: melody + harmony, or different instruments). This is something to consider in the future. We retain only the musical notes and rest nodes from the melody track. "
   ]
  },
  {
   "cell_type": "code",
   "execution_count": 3,
   "metadata": {
    "collapsed": true
   },
   "outputs": [],
   "source": [
    "mid = converter.parse('qinghuaci.mid')  # can change to read from terminal next time\n",
    "melody = mid.parts[0]  # the first part is the melody"
   ]
  },
  {
   "cell_type": "code",
   "execution_count": 4,
   "metadata": {
    "collapsed": true
   },
   "outputs": [],
   "source": [
    "all_sounds = []\n",
    "is_beginning_rest = True\n",
    "for i in melody.notesAndRests:\n",
    "    if i.isRest and is_beginning_rest:  # remove beginning silence\n",
    "        is_beginning_rest = False\n",
    "        continue\n",
    "    all_sounds.append(i)"
   ]
  },
  {
   "cell_type": "markdown",
   "metadata": {},
   "source": [
    "Next we perform one hot encoding on all the notes we obtain from previous steps. Basically we encode a certain sound or rest note to be an array of all zeros with the index of the pitch set as 1. e.g. a C0 note will be [1 0 0 . . . . 0] and a rest note will be [0 0 0 .... 0 0 1]. Notice I didn't process Chord since it contains multiple note, which will make this a **multi-label classification** problem and it will become more complicated... something to consider in the future again"
   ]
  },
  {
   "cell_type": "code",
   "execution_count": 5,
   "metadata": {
    "collapsed": true
   },
   "outputs": [],
   "source": [
    "features = []\n",
    "for sound in all_sounds:\n",
    "    one_hot_format = [0 for i in range(OUTPUT_SIZE)]\n",
    "    if sound.isRest:\n",
    "        one_hot_format[-1] = 1\n",
    "    elif sound.isNote:\n",
    "        one_hot_format[sound.pitch.midi] = 1\n",
    "#     elif sound.isChord:\n",
    "#         for pitch in sound.pitches:\n",
    "#             one_hot_format[pitch.midi] = 1\n",
    "    features.append(one_hot_format)"
   ]
  },
  {
   "cell_type": "code",
   "execution_count": 6,
   "metadata": {},
   "outputs": [
    {
     "name": "stdout",
     "output_type": "stream",
     "text": [
      "76\n",
      "78\n",
      "76\n",
      "73\n",
      "71\n"
     ]
    }
   ],
   "source": [
    "print np.argmax(features[0])\n",
    "print np.argmax(features[1])\n",
    "print np.argmax(features[2])\n",
    "print np.argmax(features[3])\n",
    "print np.argmax(features[4])"
   ]
  },
  {
   "cell_type": "markdown",
   "metadata": {},
   "source": [
    "## Generating training data sets\n",
    "After we get our list of sound notes in one-hot encoded format, we start generating our training data set. The thing that we want to achieve, is that through a certain number of music note, we want to predict the note that most likely appear in the next one. For example, using a window of 10, we want to predict the 11th note using 1st to 10th note. We can split our parsed sound notes into such format."
   ]
  },
  {
   "cell_type": "code",
   "execution_count": 7,
   "metadata": {
    "collapsed": true
   },
   "outputs": [],
   "source": [
    "WINDOWS = 10  # use 10 notes to predict the 11th note\n",
    "X, y = [], []\n",
    "for i in range(len(features) - WINDOWS):\n",
    "    X.append(features[i:(i+WINDOWS)])\n",
    "    y.append(features[i+WINDOWS])\n",
    "    \n",
    "seed = features[0:WINDOWS]  # the seed here will be used to generate new music later"
   ]
  },
  {
   "cell_type": "code",
   "execution_count": 8,
   "metadata": {},
   "outputs": [
    {
     "name": "stdout",
     "output_type": "stream",
     "text": [
      "(515, 10, 129)\n",
      "(515, 129)\n"
     ]
    }
   ],
   "source": [
    "X = np.asarray(X)\n",
    "y = np.asarray(y)\n",
    "\n",
    "print X.shape\n",
    "print y.shape"
   ]
  },
  {
   "cell_type": "markdown",
   "metadata": {},
   "source": [
    "## Building the LSTM model\n",
    "Now we have our training data ready, we can start building the LSTM model!"
   ]
  },
  {
   "cell_type": "code",
   "execution_count": 9,
   "metadata": {},
   "outputs": [
    {
     "name": "stderr",
     "output_type": "stream",
     "text": [
      "Using Theano backend.\n"
     ]
    }
   ],
   "source": [
    "# build LSTM model here!\n",
    "from keras.layers import LSTM, Activation, Dropout, Dense\n",
    "from keras.models import Sequential\n",
    "from keras.optimizers import SGD, RMSprop, Adagrad, Adadelta, Adam, Adamax, Nadam"
   ]
  },
  {
   "cell_type": "markdown",
   "metadata": {},
   "source": [
    "The model we are building is a sequential feed forward network.\n",
    "We stack 2 *LSTM* layers in the beginning (to generate a more complicated network), with a *dropout* layer after each (to prevent overfitting). After that is just a normal *dense* layer connected to the output layer. We use *softmax* activation in the end to get the probability of each index being activated. Also, we use *categorical_crossentropy* as loss function as it will increase probability of one and decrease the rest, and we can check how accurate is it compare to the training label.\n",
    "\n",
    "TODO: \n",
    "I mentioned that we skip chords as it contains multiple notes. If we want to include multi-label into this process as well we need to change the activation function to *sigmoid* and loss function to *binary_crossentropy* so that it can adapt to multi-label classification"
   ]
  },
  {
   "cell_type": "code",
   "execution_count": 10,
   "metadata": {},
   "outputs": [
    {
     "name": "stdout",
     "output_type": "stream",
     "text": [
      "_________________________________________________________________\n",
      "Layer (type)                 Output Shape              Param #   \n",
      "=================================================================\n",
      "lstm_1 (LSTM)                (None, 10, 129)           133644    \n",
      "_________________________________________________________________\n",
      "dropout_1 (Dropout)          (None, 10, 129)           0         \n",
      "_________________________________________________________________\n",
      "lstm_2 (LSTM)                (None, 129)               133644    \n",
      "_________________________________________________________________\n",
      "dropout_2 (Dropout)          (None, 129)               0         \n",
      "_________________________________________________________________\n",
      "dense_1 (Dense)              (None, 129)               16770     \n",
      "_________________________________________________________________\n",
      "activation_1 (Activation)    (None, 129)               0         \n",
      "=================================================================\n",
      "Total params: 284,058\n",
      "Trainable params: 284,058\n",
      "Non-trainable params: 0\n",
      "_________________________________________________________________\n"
     ]
    }
   ],
   "source": [
    "model = Sequential()\n",
    "model.add(LSTM(OUTPUT_SIZE, input_shape=(WINDOWS, OUTPUT_SIZE), return_sequences=True))\n",
    "model.add(Dropout(0.1))\n",
    "model.add(LSTM(OUTPUT_SIZE, input_shape=(WINDOWS, OUTPUT_SIZE), return_sequences=False))\n",
    "model.add(Dropout(0.2))\n",
    "model.add(Dense(OUTPUT_SIZE))\n",
    "model.add(Activation('softmax'))\n",
    "\n",
    "model.summary()"
   ]
  },
  {
   "cell_type": "markdown",
   "metadata": {},
   "source": [
    "Training......"
   ]
  },
  {
   "cell_type": "code",
   "execution_count": 11,
   "metadata": {},
   "outputs": [
    {
     "name": "stdout",
     "output_type": "stream",
     "text": [
      "Epoch 1/200\n",
      "515/515 [==============================] - 0s - loss: 3.1271 - acc: 0.1786     \n",
      "Epoch 2/200\n",
      "515/515 [==============================] - 0s - loss: 2.3965 - acc: 0.2194     \n",
      "Epoch 3/200\n",
      "515/515 [==============================] - 0s - loss: 2.3079 - acc: 0.2388     \n",
      "Epoch 4/200\n",
      "515/515 [==============================] - 0s - loss: 2.1997 - acc: 0.3010     \n",
      "Epoch 5/200\n",
      "515/515 [==============================] - 0s - loss: 2.1938 - acc: 0.2330     \n",
      "Epoch 6/200\n",
      "515/515 [==============================] - 0s - loss: 2.1603 - acc: 0.2796     \n",
      "Epoch 7/200\n",
      "515/515 [==============================] - 1s - loss: 2.1215 - acc: 0.2660     \n",
      "Epoch 8/200\n",
      "515/515 [==============================] - 0s - loss: 2.0665 - acc: 0.3068     \n",
      "Epoch 9/200\n",
      "515/515 [==============================] - 0s - loss: 2.0947 - acc: 0.2816     \n",
      "Epoch 10/200\n",
      "515/515 [==============================] - 0s - loss: 2.0562 - acc: 0.2835     \n",
      "Epoch 11/200\n",
      "515/515 [==============================] - 0s - loss: 2.0249 - acc: 0.3049     \n",
      "Epoch 12/200\n",
      "515/515 [==============================] - 0s - loss: 2.0322 - acc: 0.2913     \n",
      "Epoch 13/200\n",
      "515/515 [==============================] - 0s - loss: 1.9903 - acc: 0.2932     \n",
      "Epoch 14/200\n",
      "515/515 [==============================] - 0s - loss: 1.9684 - acc: 0.2777     \n",
      "Epoch 15/200\n",
      "515/515 [==============================] - 1s - loss: 1.9570 - acc: 0.2796     \n",
      "Epoch 16/200\n",
      "515/515 [==============================] - 0s - loss: 1.9289 - acc: 0.2796     \n",
      "Epoch 17/200\n",
      "515/515 [==============================] - 1s - loss: 1.8884 - acc: 0.2990     \n",
      "Epoch 18/200\n",
      "515/515 [==============================] - 1s - loss: 1.8472 - acc: 0.3301     \n",
      "Epoch 19/200\n",
      "515/515 [==============================] - 1s - loss: 1.8599 - acc: 0.3146     \n",
      "Epoch 20/200\n",
      "515/515 [==============================] - 0s - loss: 1.8523 - acc: 0.3146     \n",
      "Epoch 21/200\n",
      "515/515 [==============================] - 1s - loss: 1.8163 - acc: 0.3126     \n",
      "Epoch 22/200\n",
      "515/515 [==============================] - 1s - loss: 1.7819 - acc: 0.3437     \n",
      "Epoch 23/200\n",
      "515/515 [==============================] - 0s - loss: 1.7757 - acc: 0.3204     \n",
      "Epoch 24/200\n",
      "515/515 [==============================] - 0s - loss: 1.7551 - acc: 0.3204     \n",
      "Epoch 25/200\n",
      "515/515 [==============================] - 1s - loss: 1.7216 - acc: 0.3650     \n",
      "Epoch 26/200\n",
      "515/515 [==============================] - 0s - loss: 1.6717 - acc: 0.3553     \n",
      "Epoch 27/200\n",
      "515/515 [==============================] - 0s - loss: 1.6639 - acc: 0.3262     \n",
      "Epoch 28/200\n",
      "515/515 [==============================] - 0s - loss: 1.6287 - acc: 0.3670     \n",
      "Epoch 29/200\n",
      "515/515 [==============================] - 0s - loss: 1.6226 - acc: 0.3728     \n",
      "Epoch 30/200\n",
      "515/515 [==============================] - 0s - loss: 1.5904 - acc: 0.3689     \n",
      "Epoch 31/200\n",
      "515/515 [==============================] - 0s - loss: 1.5419 - acc: 0.4039     \n",
      "Epoch 32/200\n",
      "515/515 [==============================] - 1s - loss: 1.5080 - acc: 0.4214     \n",
      "Epoch 33/200\n",
      "515/515 [==============================] - 0s - loss: 1.5168 - acc: 0.4058     \n",
      "Epoch 34/200\n",
      "515/515 [==============================] - 0s - loss: 1.4441 - acc: 0.4291     \n",
      "Epoch 35/200\n",
      "515/515 [==============================] - 1s - loss: 1.4326 - acc: 0.4330     \n",
      "Epoch 36/200\n",
      "515/515 [==============================] - 0s - loss: 1.3688 - acc: 0.4777     \n",
      "Epoch 37/200\n",
      "515/515 [==============================] - 0s - loss: 1.3657 - acc: 0.4388     \n",
      "Epoch 38/200\n",
      "515/515 [==============================] - 0s - loss: 1.3221 - acc: 0.4602     \n",
      "Epoch 39/200\n",
      "515/515 [==============================] - 0s - loss: 1.2721 - acc: 0.5107     \n",
      "Epoch 40/200\n",
      "515/515 [==============================] - 0s - loss: 1.2452 - acc: 0.5126     \n",
      "Epoch 41/200\n",
      "515/515 [==============================] - 1s - loss: 1.2300 - acc: 0.5029     \n",
      "Epoch 42/200\n",
      "515/515 [==============================] - 1s - loss: 1.1949 - acc: 0.5359     \n",
      "Epoch 43/200\n",
      "515/515 [==============================] - 0s - loss: 1.1580 - acc: 0.5495     \n",
      "Epoch 44/200\n",
      "515/515 [==============================] - 0s - loss: 1.0982 - acc: 0.5806     \n",
      "Epoch 45/200\n",
      "515/515 [==============================] - 1s - loss: 1.0694 - acc: 0.5825     \n",
      "Epoch 46/200\n",
      "515/515 [==============================] - 1s - loss: 1.0425 - acc: 0.6019     \n",
      "Epoch 47/200\n",
      "515/515 [==============================] - 1s - loss: 1.0116 - acc: 0.6155     \n",
      "Epoch 48/200\n",
      "515/515 [==============================] - 1s - loss: 0.9476 - acc: 0.6563     \n",
      "Epoch 49/200\n",
      "515/515 [==============================] - 1s - loss: 0.9480 - acc: 0.6252     \n",
      "Epoch 50/200\n",
      "515/515 [==============================] - 1s - loss: 0.9030 - acc: 0.6602     \n",
      "Epoch 51/200\n",
      "515/515 [==============================] - 1s - loss: 0.8819 - acc: 0.6738     \n",
      "Epoch 52/200\n",
      "515/515 [==============================] - 1s - loss: 0.8448 - acc: 0.6893     \n",
      "Epoch 53/200\n",
      "515/515 [==============================] - 0s - loss: 0.7551 - acc: 0.7359     \n",
      "Epoch 54/200\n",
      "515/515 [==============================] - 0s - loss: 0.7478 - acc: 0.7437     \n",
      "Epoch 55/200\n",
      "515/515 [==============================] - 0s - loss: 0.7232 - acc: 0.7359     \n",
      "Epoch 56/200\n",
      "515/515 [==============================] - 1s - loss: 0.7182 - acc: 0.7340     \n",
      "Epoch 57/200\n",
      "515/515 [==============================] - 1s - loss: 0.6717 - acc: 0.7728     \n",
      "Epoch 58/200\n",
      "515/515 [==============================] - 1s - loss: 0.6583 - acc: 0.7340     \n",
      "Epoch 59/200\n",
      "515/515 [==============================] - 1s - loss: 0.6482 - acc: 0.7767     \n",
      "Epoch 60/200\n",
      "515/515 [==============================] - 1s - loss: 0.6301 - acc: 0.7709     \n",
      "Epoch 61/200\n",
      "515/515 [==============================] - 1s - loss: 0.6106 - acc: 0.7883     \n",
      "Epoch 62/200\n",
      "515/515 [==============================] - 1s - loss: 0.5532 - acc: 0.8155     \n",
      "Epoch 63/200\n",
      "515/515 [==============================] - 1s - loss: 0.5102 - acc: 0.8447     \n",
      "Epoch 64/200\n",
      "515/515 [==============================] - 1s - loss: 0.5485 - acc: 0.7903     \n",
      "Epoch 65/200\n",
      "515/515 [==============================] - 1s - loss: 0.4823 - acc: 0.8311     \n",
      "Epoch 66/200\n",
      "515/515 [==============================] - 1s - loss: 0.4842 - acc: 0.8330     \n",
      "Epoch 67/200\n",
      "515/515 [==============================] - 1s - loss: 0.4359 - acc: 0.8680     \n",
      "Epoch 68/200\n",
      "515/515 [==============================] - 1s - loss: 0.4272 - acc: 0.8544     \n",
      "Epoch 69/200\n",
      "515/515 [==============================] - 1s - loss: 0.4093 - acc: 0.8583     \n",
      "Epoch 70/200\n",
      "515/515 [==============================] - 1s - loss: 0.3997 - acc: 0.8641     \n",
      "Epoch 71/200\n",
      "515/515 [==============================] - 1s - loss: 0.3923 - acc: 0.8563     \n",
      "Epoch 72/200\n",
      "515/515 [==============================] - 1s - loss: 0.3879 - acc: 0.8660     \n",
      "Epoch 73/200\n",
      "515/515 [==============================] - 1s - loss: 0.3724 - acc: 0.8777     - ETA: 0s - loss: 0.3420\n",
      "Epoch 74/200\n",
      "515/515 [==============================] - 1s - loss: 0.3223 - acc: 0.8835     \n",
      "Epoch 75/200\n",
      "515/515 [==============================] - 1s - loss: 0.3519 - acc: 0.8796     \n",
      "Epoch 76/200\n",
      "515/515 [==============================] - 1s - loss: 0.3111 - acc: 0.8990     \n",
      "Epoch 77/200\n",
      "515/515 [==============================] - 1s - loss: 0.3455 - acc: 0.8718     \n",
      "Epoch 78/200\n",
      "515/515 [==============================] - 1s - loss: 0.2965 - acc: 0.8932     \n",
      "Epoch 79/200\n",
      "515/515 [==============================] - 1s - loss: 0.2819 - acc: 0.8990     \n",
      "Epoch 80/200\n",
      "515/515 [==============================] - 1s - loss: 0.3232 - acc: 0.9049     \n",
      "Epoch 81/200\n",
      "515/515 [==============================] - 1s - loss: 0.2437 - acc: 0.9146     \n",
      "Epoch 82/200\n",
      "515/515 [==============================] - 1s - loss: 0.2883 - acc: 0.8874     \n",
      "Epoch 83/200\n",
      "515/515 [==============================] - 1s - loss: 0.2637 - acc: 0.8990     \n",
      "Epoch 84/200\n",
      "515/515 [==============================] - 1s - loss: 0.2579 - acc: 0.9146     \n",
      "Epoch 85/200\n",
      "515/515 [==============================] - 1s - loss: 0.2233 - acc: 0.9126     \n",
      "Epoch 86/200\n",
      "515/515 [==============================] - 0s - loss: 0.2301 - acc: 0.9184     \n",
      "Epoch 87/200\n",
      "515/515 [==============================] - 1s - loss: 0.2431 - acc: 0.9107     \n",
      "Epoch 88/200\n"
     ]
    },
    {
     "name": "stdout",
     "output_type": "stream",
     "text": [
      "515/515 [==============================] - 1s - loss: 0.2023 - acc: 0.9243     \n",
      "Epoch 89/200\n",
      "515/515 [==============================] - 0s - loss: 0.2227 - acc: 0.9243     \n",
      "Epoch 90/200\n",
      "515/515 [==============================] - 0s - loss: 0.2073 - acc: 0.9204     \n",
      "Epoch 91/200\n",
      "515/515 [==============================] - 0s - loss: 0.2057 - acc: 0.9223     \n",
      "Epoch 92/200\n",
      "515/515 [==============================] - 0s - loss: 0.1890 - acc: 0.9282     \n",
      "Epoch 93/200\n",
      "515/515 [==============================] - 0s - loss: 0.1865 - acc: 0.9340     \n",
      "Epoch 94/200\n",
      "515/515 [==============================] - 0s - loss: 0.2007 - acc: 0.9282     \n",
      "Epoch 95/200\n",
      "515/515 [==============================] - 1s - loss: 0.1629 - acc: 0.9359     \n",
      "Epoch 96/200\n",
      "515/515 [==============================] - 0s - loss: 0.1861 - acc: 0.9301     \n",
      "Epoch 97/200\n",
      "515/515 [==============================] - 0s - loss: 0.1750 - acc: 0.9320     \n",
      "Epoch 98/200\n",
      "515/515 [==============================] - 0s - loss: 0.1394 - acc: 0.9456     \n",
      "Epoch 99/200\n",
      "515/515 [==============================] - 1s - loss: 0.1962 - acc: 0.9146     \n",
      "Epoch 100/200\n",
      "515/515 [==============================] - 0s - loss: 0.1399 - acc: 0.9379     \n",
      "Epoch 101/200\n",
      "515/515 [==============================] - 0s - loss: 0.1488 - acc: 0.9417     \n",
      "Epoch 102/200\n",
      "515/515 [==============================] - 1s - loss: 0.1859 - acc: 0.9320     \n",
      "Epoch 103/200\n",
      "515/515 [==============================] - 0s - loss: 0.1505 - acc: 0.9340     \n",
      "Epoch 104/200\n",
      "515/515 [==============================] - 0s - loss: 0.1309 - acc: 0.9553     \n",
      "Epoch 105/200\n",
      "515/515 [==============================] - 0s - loss: 0.1465 - acc: 0.9456     \n",
      "Epoch 106/200\n",
      "515/515 [==============================] - 0s - loss: 0.1252 - acc: 0.9495     \n",
      "Epoch 107/200\n",
      "515/515 [==============================] - 1s - loss: 0.1258 - acc: 0.9495     \n",
      "Epoch 108/200\n",
      "515/515 [==============================] - 1s - loss: 0.1545 - acc: 0.9301     \n",
      "Epoch 109/200\n",
      "515/515 [==============================] - 0s - loss: 0.1097 - acc: 0.9612     \n",
      "Epoch 110/200\n",
      "515/515 [==============================] - 0s - loss: 0.1395 - acc: 0.9398     \n",
      "Epoch 111/200\n",
      "515/515 [==============================] - 0s - loss: 0.1107 - acc: 0.9592     \n",
      "Epoch 112/200\n",
      "515/515 [==============================] - 0s - loss: 0.0872 - acc: 0.9612     \n",
      "Epoch 113/200\n",
      "515/515 [==============================] - 0s - loss: 0.1692 - acc: 0.9301     \n",
      "Epoch 114/200\n",
      "515/515 [==============================] - 0s - loss: 0.0991 - acc: 0.9650     \n",
      "Epoch 115/200\n",
      "515/515 [==============================] - 0s - loss: 0.1257 - acc: 0.9476     \n",
      "Epoch 116/200\n",
      "515/515 [==============================] - 0s - loss: 0.1101 - acc: 0.9456     \n",
      "Epoch 117/200\n",
      "515/515 [==============================] - 1s - loss: 0.1152 - acc: 0.9553     \n",
      "Epoch 118/200\n",
      "515/515 [==============================] - 0s - loss: 0.0835 - acc: 0.9631     \n",
      "Epoch 119/200\n",
      "515/515 [==============================] - 0s - loss: 0.0991 - acc: 0.9573     \n",
      "Epoch 120/200\n",
      "515/515 [==============================] - 0s - loss: 0.0964 - acc: 0.9553     \n",
      "Epoch 121/200\n",
      "515/515 [==============================] - 0s - loss: 0.1053 - acc: 0.9592     \n",
      "Epoch 122/200\n",
      "515/515 [==============================] - 0s - loss: 0.0723 - acc: 0.9670     \n",
      "Epoch 123/200\n",
      "515/515 [==============================] - 0s - loss: 0.1521 - acc: 0.9437     \n",
      "Epoch 124/200\n",
      "515/515 [==============================] - 0s - loss: 0.0969 - acc: 0.9573     \n",
      "Epoch 125/200\n",
      "515/515 [==============================] - 0s - loss: 0.0772 - acc: 0.9650     \n",
      "Epoch 126/200\n",
      "515/515 [==============================] - 0s - loss: 0.0795 - acc: 0.9553     \n",
      "Epoch 127/200\n",
      "515/515 [==============================] - 0s - loss: 0.0791 - acc: 0.9592     \n",
      "Epoch 128/200\n",
      "515/515 [==============================] - 1s - loss: 0.0892 - acc: 0.9612     \n",
      "Epoch 129/200\n",
      "515/515 [==============================] - 1s - loss: 0.0740 - acc: 0.9650     \n",
      "Epoch 130/200\n",
      "515/515 [==============================] - 1s - loss: 0.1076 - acc: 0.9515     \n",
      "Epoch 131/200\n",
      "515/515 [==============================] - 0s - loss: 0.0901 - acc: 0.9573     \n",
      "Epoch 132/200\n",
      "515/515 [==============================] - 0s - loss: 0.0849 - acc: 0.9612     \n",
      "Epoch 133/200\n",
      "515/515 [==============================] - 0s - loss: 0.1040 - acc: 0.9456     \n",
      "Epoch 134/200\n",
      "515/515 [==============================] - 0s - loss: 0.0757 - acc: 0.9631     \n",
      "Epoch 135/200\n",
      "515/515 [==============================] - 0s - loss: 0.0718 - acc: 0.9612     \n",
      "Epoch 136/200\n",
      "515/515 [==============================] - 0s - loss: 0.0884 - acc: 0.9553     \n",
      "Epoch 137/200\n",
      "515/515 [==============================] - 0s - loss: 0.0545 - acc: 0.9689     \n",
      "Epoch 138/200\n",
      "515/515 [==============================] - 0s - loss: 0.0801 - acc: 0.9553     \n",
      "Epoch 139/200\n",
      "515/515 [==============================] - 0s - loss: 0.0758 - acc: 0.9573     \n",
      "Epoch 140/200\n",
      "515/515 [==============================] - 0s - loss: 0.0575 - acc: 0.9670     \n",
      "Epoch 141/200\n",
      "515/515 [==============================] - 0s - loss: 0.0631 - acc: 0.9689     \n",
      "Epoch 142/200\n",
      "515/515 [==============================] - 0s - loss: 0.0845 - acc: 0.9592     \n",
      "Epoch 143/200\n",
      "515/515 [==============================] - 0s - loss: 0.0723 - acc: 0.9709     \n",
      "Epoch 144/200\n",
      "515/515 [==============================] - 0s - loss: 0.0551 - acc: 0.9709     \n",
      "Epoch 145/200\n",
      "515/515 [==============================] - 1s - loss: 0.0812 - acc: 0.9592     \n",
      "Epoch 146/200\n",
      "515/515 [==============================] - 0s - loss: 0.0726 - acc: 0.9592     \n",
      "Epoch 147/200\n",
      "515/515 [==============================] - 0s - loss: 0.0817 - acc: 0.9573     \n",
      "Epoch 148/200\n",
      "515/515 [==============================] - 0s - loss: 0.0941 - acc: 0.9553     \n",
      "Epoch 149/200\n",
      "515/515 [==============================] - 0s - loss: 0.0402 - acc: 0.9748     \n",
      "Epoch 150/200\n",
      "515/515 [==============================] - 1s - loss: 0.1042 - acc: 0.9534     - ETA: 0s - loss: 0.1042 - ac\n",
      "Epoch 151/200\n",
      "515/515 [==============================] - 0s - loss: 0.0333 - acc: 0.9767     \n",
      "Epoch 152/200\n",
      "515/515 [==============================] - 1s - loss: 0.0593 - acc: 0.9650     \n",
      "Epoch 153/200\n",
      "515/515 [==============================] - 0s - loss: 0.0545 - acc: 0.9650     \n",
      "Epoch 154/200\n",
      "515/515 [==============================] - 0s - loss: 0.0545 - acc: 0.9670     \n",
      "Epoch 155/200\n",
      "515/515 [==============================] - 1s - loss: 0.0774 - acc: 0.9650     \n",
      "Epoch 156/200\n",
      "515/515 [==============================] - 0s - loss: 0.0802 - acc: 0.9631     \n",
      "Epoch 157/200\n",
      "515/515 [==============================] - 0s - loss: 0.0319 - acc: 0.9786     \n",
      "Epoch 158/200\n",
      "515/515 [==============================] - 1s - loss: 0.0643 - acc: 0.9612     \n",
      "Epoch 159/200\n",
      "515/515 [==============================] - 1s - loss: 0.0525 - acc: 0.9728     \n",
      "Epoch 160/200\n",
      "515/515 [==============================] - 0s - loss: 0.0343 - acc: 0.9786     \n",
      "Epoch 161/200\n",
      "515/515 [==============================] - 1s - loss: 0.0796 - acc: 0.9592     \n",
      "Epoch 162/200\n",
      "515/515 [==============================] - 0s - loss: 0.0496 - acc: 0.9670     \n",
      "Epoch 163/200\n",
      "515/515 [==============================] - 1s - loss: 0.0411 - acc: 0.9767     \n",
      "Epoch 164/200\n",
      "515/515 [==============================] - 0s - loss: 0.0801 - acc: 0.9689     \n",
      "Epoch 165/200\n",
      "515/515 [==============================] - 0s - loss: 0.0463 - acc: 0.9767     \n",
      "Epoch 166/200\n",
      "515/515 [==============================] - 1s - loss: 0.0717 - acc: 0.9573     \n",
      "Epoch 167/200\n",
      "515/515 [==============================] - 1s - loss: 0.0385 - acc: 0.9748     \n",
      "Epoch 168/200\n",
      "515/515 [==============================] - 0s - loss: 0.0709 - acc: 0.9592     \n",
      "Epoch 169/200\n",
      "515/515 [==============================] - 0s - loss: 0.0388 - acc: 0.9786     \n",
      "Epoch 170/200\n",
      "515/515 [==============================] - 0s - loss: 0.0650 - acc: 0.9592     \n",
      "Epoch 171/200\n",
      "515/515 [==============================] - 0s - loss: 0.0671 - acc: 0.9670     \n",
      "Epoch 172/200\n",
      "515/515 [==============================] - 1s - loss: 0.0446 - acc: 0.9767     \n",
      "Epoch 173/200\n",
      "515/515 [==============================] - 0s - loss: 0.0227 - acc: 0.9825     \n",
      "Epoch 174/200\n",
      "515/515 [==============================] - 1s - loss: 0.0584 - acc: 0.9689     \n",
      "Epoch 175/200\n"
     ]
    },
    {
     "name": "stdout",
     "output_type": "stream",
     "text": [
      "515/515 [==============================] - 1s - loss: 0.0373 - acc: 0.9786     \n",
      "Epoch 176/200\n",
      "515/515 [==============================] - 1s - loss: 0.0447 - acc: 0.9709     \n",
      "Epoch 177/200\n",
      "515/515 [==============================] - ETA: 0s - loss: 0.0678 - acc: 0.966 - 1s - loss: 0.0666 - acc: 0.9670     \n",
      "Epoch 178/200\n",
      "515/515 [==============================] - 0s - loss: 0.0394 - acc: 0.9709     \n",
      "Epoch 179/200\n",
      "515/515 [==============================] - 0s - loss: 0.0310 - acc: 0.9767     \n",
      "Epoch 180/200\n",
      "515/515 [==============================] - 0s - loss: 0.0325 - acc: 0.9767     \n",
      "Epoch 181/200\n",
      "515/515 [==============================] - 0s - loss: 0.0516 - acc: 0.9709     \n",
      "Epoch 182/200\n",
      "515/515 [==============================] - 0s - loss: 0.0238 - acc: 0.9786     \n",
      "Epoch 183/200\n",
      "515/515 [==============================] - 0s - loss: 0.0409 - acc: 0.9767     \n",
      "Epoch 184/200\n",
      "515/515 [==============================] - 0s - loss: 0.0730 - acc: 0.9631     \n",
      "Epoch 185/200\n",
      "515/515 [==============================] - 0s - loss: 0.0518 - acc: 0.9748     \n",
      "Epoch 186/200\n",
      "515/515 [==============================] - 1s - loss: 0.0306 - acc: 0.9748     \n",
      "Epoch 187/200\n",
      "515/515 [==============================] - 0s - loss: 0.0332 - acc: 0.9767     \n",
      "Epoch 188/200\n",
      "515/515 [==============================] - 0s - loss: 0.0403 - acc: 0.9728     \n",
      "Epoch 189/200\n",
      "515/515 [==============================] - 0s - loss: 0.0523 - acc: 0.9709     \n",
      "Epoch 190/200\n",
      "515/515 [==============================] - 0s - loss: 0.0225 - acc: 0.9825     \n",
      "Epoch 191/200\n",
      "515/515 [==============================] - 0s - loss: 0.0287 - acc: 0.9767     \n",
      "Epoch 192/200\n",
      "515/515 [==============================] - 0s - loss: 0.0864 - acc: 0.9670     \n",
      "Epoch 193/200\n",
      "515/515 [==============================] - 1s - loss: 0.0262 - acc: 0.9748     \n",
      "Epoch 194/200\n",
      "515/515 [==============================] - 1s - loss: 0.0791 - acc: 0.9631     \n",
      "Epoch 195/200\n",
      "515/515 [==============================] - 1s - loss: 0.0223 - acc: 0.9806     \n",
      "Epoch 196/200\n",
      "515/515 [==============================] - 1s - loss: 0.0269 - acc: 0.9806     \n",
      "Epoch 197/200\n",
      "515/515 [==============================] - 1s - loss: 0.0352 - acc: 0.9709     \n",
      "Epoch 198/200\n",
      "515/515 [==============================] - 0s - loss: 0.0760 - acc: 0.9612     \n",
      "Epoch 199/200\n",
      "515/515 [==============================] - 1s - loss: 0.0272 - acc: 0.9767     \n",
      "Epoch 200/200\n",
      "515/515 [==============================] - 1s - loss: 0.0234 - acc: 0.9806     \n"
     ]
    },
    {
     "data": {
      "text/plain": [
       "<keras.callbacks.History at 0x11608c6d0>"
      ]
     },
     "execution_count": 11,
     "metadata": {},
     "output_type": "execute_result"
    }
   ],
   "source": [
    "model.compile(optimizer=RMSprop(), loss='categorical_crossentropy', metrics=['accuracy'])\n",
    "model.fit(X, y, batch_size=20, epochs=200, verbose=1)  # no need to care about validation? :) "
   ]
  },
  {
   "cell_type": "code",
   "execution_count": 12,
   "metadata": {
    "collapsed": true
   },
   "outputs": [],
   "source": [
    "model.save('trained_lstm_model.h5')"
   ]
  },
  {
   "cell_type": "markdown",
   "metadata": {},
   "source": [
    "## Generating music!\n",
    "After training, we can use the model to start generating music! In this case since I am using the training data first 10 notes as seed, it doesn't really create a new piece of music.. Since this is just an experiment I don't bother to pass in 10 different notes.\n",
    "\n",
    "We first transform the seed, or the new input for the model to be same shape as required"
   ]
  },
  {
   "cell_type": "code",
   "execution_count": 13,
   "metadata": {},
   "outputs": [
    {
     "name": "stdout",
     "output_type": "stream",
     "text": [
      "(1, 10, 129)\n"
     ]
    }
   ],
   "source": [
    "seed = np.asarray(seed)\n",
    "seed = np.expand_dims(seed, axis=0)\n",
    "print seed.shape\n",
    "predictions = []\n",
    "X = seed"
   ]
  },
  {
   "cell_type": "markdown",
   "metadata": {
    "collapsed": true
   },
   "source": [
    "Then we will use the model to generate the 11th note, slide the window to the 2nd - 11th note to generate the 12th note, and slide the window again to 3rd - 12th note to generate 13th note, so on and so forth..."
   ]
  },
  {
   "cell_type": "code",
   "execution_count": 14,
   "metadata": {},
   "outputs": [],
   "source": [
    "for i in range(150):  # generate 150 notes\n",
    "    preds = model.predict(X)\n",
    "    index = np.argmax(preds)\n",
    "    predictions.append(index)\n",
    "    preds = np.zeros(OUTPUT_SIZE)\n",
    "    preds[index] = 1\n",
    "    preds = np.asarray(preds).reshape(1, -1)\n",
    "    X = np.squeeze(X)\n",
    "    X = np.concatenate((X[1:], preds))\n",
    "    X = np.expand_dims(X, axis=0)"
   ]
  },
  {
   "cell_type": "markdown",
   "metadata": {},
   "source": [
    "## Saving the music\n",
    "Most straight forward portion, saving the notes to an output file. Notice we hardcoded the note duration to 0.75 seconds, something to be consider in the future to include duration in training and generating"
   ]
  },
  {
   "cell_type": "code",
   "execution_count": 15,
   "metadata": {
    "collapsed": true
   },
   "outputs": [],
   "source": [
    "NOTE_DURATION = 0.75\n",
    "s = stream.Stream()\n",
    "s.append(instrument.Piano())  # make the note a piano note\n",
    "for pred in predictions:\n",
    "    s.append(note.Note(\n",
    "        ps=pred, duration=duration.Duration(NOTE_DURATION)\n",
    "    ) if pred != 128 else note.Rest(duration=duration.Duration(NOTE_DURATION)))\n"
   ]
  },
  {
   "cell_type": "code",
   "execution_count": 16,
   "metadata": {
    "collapsed": true
   },
   "outputs": [],
   "source": [
    "mf = midi.translate.streamToMidiFile(s)\n",
    "mf.open('qinghuaci_output.mid', 'wb')\n",
    "mf.write()\n",
    "mf.close()\n"
   ]
  },
  {
   "cell_type": "markdown",
   "metadata": {},
   "source": [
    "Code below are not used, just some snippet which initially I used for further testing"
   ]
  },
  {
   "cell_type": "code",
   "execution_count": null,
   "metadata": {
    "collapsed": true
   },
   "outputs": [],
   "source": [
    "from keras.models import load_model\n",
    "\n",
    "model = load_model('trained_lstm_model.h5')"
   ]
  },
  {
   "cell_type": "code",
   "execution_count": null,
   "metadata": {
    "collapsed": true
   },
   "outputs": [],
   "source": [
    "def export_to_midi_file(notes, output_name):  # another function copied from internet to output notes to file, not used\n",
    "    mt = midi.MidiTrack(1)\n",
    "    t = 0 \n",
    "    tLast = 0\n",
    "    duration = 1024\n",
    "    for pitch in notes:\n",
    "        dt = midi.DeltaTime(mt)\n",
    "        dt.time = t - tLast\n",
    "        mt.events.append(dt)\n",
    "\n",
    "        me = midi.MidiEvent(mt, type=\"NOTE_ON\", channel=1)\n",
    "        me.pitch = pitch\n",
    "        me.velocity = 127\n",
    "        mt.events.append(me)\n",
    "\n",
    "        dt = midi.DeltaTime(mt)\n",
    "        dt.time = duration\n",
    "        mt.events.append(dt)\n",
    "\n",
    "        me = midi.MidiEvent(mt, type=\"NOTE_ON\", channel=1)\n",
    "        me.pitch = pitch\n",
    "        me.velocity = 0\n",
    "        mt.events.append(me)\n",
    "\n",
    "        tLast = t + duration\n",
    "        t += duration\n",
    "\n",
    "    dt = midi.DeltaTime(mt)\n",
    "    dt.time = 0\n",
    "    mt.events.append(dt)\n",
    "\n",
    "    me = midi.MidiEvent(mt, type=\"END_OF_TRACK\", channel=1)\n",
    "    me.data = ''\n",
    "    mt.events.append(me)\n",
    "\n",
    "    mf = midi.MidiFile()\n",
    "    mf.ticksPerQuarterNote = 1024\n",
    "    mf.tracks.append(mt)\n",
    "\n",
    "    mf.open(output_name, 'wb')\n",
    "    mf.write()\n",
    "    mf.close()\n",
    "\n",
    "export_to_midi_file(predictions, 'qinghuaci_output.mid')"
   ]
  }
 ],
 "metadata": {
  "kernelspec": {
   "display_name": "Python 2",
   "language": "python",
   "name": "python2"
  },
  "language_info": {
   "codemirror_mode": {
    "name": "ipython",
    "version": 2
   },
   "file_extension": ".py",
   "mimetype": "text/x-python",
   "name": "python",
   "nbconvert_exporter": "python",
   "pygments_lexer": "ipython2",
   "version": "2.7.10"
  }
 },
 "nbformat": 4,
 "nbformat_minor": 2
}
